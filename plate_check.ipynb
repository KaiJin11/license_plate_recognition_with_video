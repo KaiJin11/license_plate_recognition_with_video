{
 "cells": [
  {
   "cell_type": "code",
   "execution_count": 1,
   "metadata": {},
   "outputs": [
    {
     "name": "stdout",
     "output_type": "stream",
     "text": [
      "ProjectViobot_python3.zip   plate_check.ipynb\r\n",
      "__init__.py                 plate_detector.py\r\n",
      "\u001b[34malpr_unconstrained\u001b[m\u001b[m/         plate_identification.ipynb\r\n",
      "company.db                  test.py\r\n",
      "company.db-journal          test_car_vbot.png\r\n",
      "config.ini                  test_car_vbot_2.png\r\n",
      "\u001b[34mconfigurations\u001b[m\u001b[m/             test_car_vbot_3.png\r\n",
      "\u001b[34mdata\u001b[m\u001b[m/                       test_car_vbot_4.png\r\n",
      "\u001b[34mdata_output\u001b[m\u001b[m/                \u001b[34mvideo\u001b[m\u001b[m/\r\n"
     ]
    }
   ],
   "source": [
    "ls"
   ]
  },
  {
   "cell_type": "code",
   "execution_count": 1,
   "metadata": {},
   "outputs": [],
   "source": [
    "import sys"
   ]
  },
  {
   "cell_type": "code",
   "execution_count": 2,
   "metadata": {},
   "outputs": [
    {
     "name": "stderr",
     "output_type": "stream",
     "text": [
      "Using TensorFlow backend.\n"
     ]
    }
   ],
   "source": [
    "from plate_detector import Plate_Detector\n",
    "#path = '/Users/kaijin/Desktop/ProjectViobot/alpr_unconstrained'\n",
    "#sys.path.append(path)"
   ]
  },
  {
   "cell_type": "code",
   "execution_count": 3,
   "metadata": {
    "scrolled": true
   },
   "outputs": [
    {
     "name": "stdout",
     "output_type": "stream",
     "text": [
      "('For Frame: ', 0)\n",
      "(845, 0)\n",
      "\t\t2 cars found\n",
      "Class: 0, top_left(x:13.000000,y:157.000000), bottom_right(x:471.000000,y:477.000000)\n",
      "Class: 0, top_left(x:475.000000,y:204.000000), bottom_right(x:632.000000,y:300.000000)\n",
      "\t\tBound dim: 384, ratio: 1.333333\n",
      "Performing OCR...\n",
      "(600, 0)\n",
      "\t\tLP: 6D0K65\n",
      "Performing OCR...\n",
      "(600, 0)\n",
      "\t\tLP: SNS\n",
      "('For Frame: ', 10)\n",
      "(845, 0)\n",
      "\t\t2 cars found\n",
      "Class: 0, top_left(x:13.000000,y:160.000000), bottom_right(x:472.000000,y:477.000000)\n",
      "Class: 0, top_left(x:476.000000,y:204.000000), bottom_right(x:631.000000,y:300.000000)\n",
      "\t\tBound dim: 384, ratio: 1.333333\n",
      "Performing OCR...\n",
      "(600, 0)\n",
      "\t\tLP: 6D0K65\n",
      "Performing OCR...\n",
      "(600, 0)\n",
      "\t\tLP: SNS\n",
      "('For Frame: ', 20)\n",
      "(845, 0)\n",
      "\t\t2 cars found\n",
      "Class: 0, top_left(x:9.000000,y:163.000000), bottom_right(x:475.000000,y:474.000000)\n",
      "Class: 0, top_left(x:479.000000,y:202.000000), bottom_right(x:632.000000,y:302.000000)\n",
      "\t\tBound dim: 384, ratio: 1.333333\n",
      "Performing OCR...\n",
      "(600, 0)\n",
      "\t\tLP: 6D0K65\n",
      "Performing OCR...\n",
      "(600, 0)\n",
      "\t\tLP: SHS9\n",
      "('For Frame: ', 30)\n",
      "(845, 0)\n",
      "\t\t2 cars found\n",
      "Class: 0, top_left(x:-2.000000,y:142.000000), bottom_right(x:465.000000,y:467.000000)\n",
      "Class: 0, top_left(x:475.000000,y:204.000000), bottom_right(x:630.000000,y:302.000000)\n",
      "\t\tBound dim: 384, ratio: 1.333333\n",
      "Performing OCR...\n",
      "(600, 0)\n",
      "\t\tLP: SHNS9\n",
      "Performing OCR...\n",
      "(600, 0)\n",
      "\t\tLP: 6D0KI65\n",
      "('For Frame: ', 40)\n",
      "(845, 0)\n",
      "\t\t2 cars found\n",
      "Class: 0, top_left(x:3.000000,y:143.000000), bottom_right(x:407.000000,y:451.000000)\n",
      "Class: 0, top_left(x:467.000000,y:206.000000), bottom_right(x:630.000000,y:299.000000)\n",
      "\t\tBound dim: 384, ratio: 1.333333\n",
      "Performing OCR...\n",
      "(600, 0)\n",
      "\t\tLP: 6D0K6\n",
      "Performing OCR...\n",
      "(600, 0)\n",
      "\t\tLP: MSEYSI\n",
      "('For Frame: ', 50)\n",
      "(845, 0)\n",
      "\t\t2 cars found\n",
      "Class: 0, top_left(x:6.000000,y:108.000000), bottom_right(x:362.000000,y:480.000000)\n",
      "Class: 0, top_left(x:458.000000,y:206.000000), bottom_right(x:636.000000,y:300.000000)\n",
      "\t\tBound dim: 384, ratio: 1.333333\n",
      "Performing OCR...\n",
      "(600, 0)\n",
      "\t\tLP: 6D0K65\n",
      "Performing OCR...\n",
      "(600, 0)\n",
      "\t\tLP: MYTEYSP9\n",
      "('For Frame: ', 60)\n",
      "(845, 0)\n",
      "\t\t2 cars found\n",
      "Class: 0, top_left(x:-3.000000,y:105.000000), bottom_right(x:329.000000,y:495.000000)\n",
      "Class: 0, top_left(x:457.000000,y:204.000000), bottom_right(x:634.000000,y:300.000000)\n",
      "\t\tBound dim: 384, ratio: 1.333333\n",
      "Performing OCR...\n",
      "(600, 0)\n",
      "\t\tLP: YSPJ\n",
      "('For Frame: ', 70)\n",
      "(845, 0)\n",
      "\t\t2 cars found\n",
      "Class: 0, top_left(x:11.000000,y:116.000000), bottom_right(x:244.000000,y:487.000000)\n",
      "Class: 0, top_left(x:443.000000,y:208.000000), bottom_right(x:628.000000,y:302.000000)\n",
      "\t\tBound dim: 384, ratio: 1.333333\n"
     ]
    }
   ],
   "source": [
    "pdetect_obj = Plate_Detector()\n",
    "\n",
    "video_path = 'video/ALRP_left_zone_A_wo_ir_dots.avi'\n",
    "output_path = 'data_output'\n",
    "result_plates = pdetect_obj.video_scaner(video_path, output_path, time_break = 10)\n"
   ]
  },
  {
   "cell_type": "code",
   "execution_count": 9,
   "metadata": {},
   "outputs": [
    {
     "data": {
      "text/plain": [
       "True"
      ]
     },
     "execution_count": 9,
     "metadata": {},
     "output_type": "execute_result"
    }
   ],
   "source": [
    "1%10!=0"
   ]
  },
  {
   "cell_type": "code",
   "execution_count": null,
   "metadata": {},
   "outputs": [],
   "source": []
  },
  {
   "cell_type": "code",
   "execution_count": null,
   "metadata": {},
   "outputs": [],
   "source": []
  },
  {
   "cell_type": "code",
   "execution_count": null,
   "metadata": {},
   "outputs": [],
   "source": []
  }
 ],
 "metadata": {
  "kernelspec": {
   "display_name": "Python 2",
   "language": "python",
   "name": "python2"
  },
  "language_info": {
   "codemirror_mode": {
    "name": "ipython",
    "version": 2
   },
   "file_extension": ".py",
   "mimetype": "text/x-python",
   "name": "python",
   "nbconvert_exporter": "python",
   "pygments_lexer": "ipython2",
   "version": "2.7.16"
  }
 },
 "nbformat": 4,
 "nbformat_minor": 2
}
